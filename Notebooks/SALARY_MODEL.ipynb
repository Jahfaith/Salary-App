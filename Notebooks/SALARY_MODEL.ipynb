{
 "cells": [
  {
   "cell_type": "code",
   "execution_count": 1,
   "metadata": {},
   "outputs": [],
   "source": [
    "# import libraries.\n",
    "\n",
    "import numpy as np\n",
    "import pandas as pd\n",
    "import matplotlib.pyplot as plt\n",
    "import seaborn as sns\n",
    "\n",
    "sns.set(style='darkgrid')\n",
    "plt.rcParams['figure.figsize'] = (15,9)"
   ]
  },
  {
   "cell_type": "code",
   "execution_count": 2,
   "metadata": {},
   "outputs": [
    {
     "data": {
      "text/html": [
       "<div>\n",
       "<style scoped>\n",
       "    .dataframe tbody tr th:only-of-type {\n",
       "        vertical-align: middle;\n",
       "    }\n",
       "\n",
       "    .dataframe tbody tr th {\n",
       "        vertical-align: top;\n",
       "    }\n",
       "\n",
       "    .dataframe thead th {\n",
       "        text-align: right;\n",
       "    }\n",
       "</style>\n",
       "<table border=\"1\" class=\"dataframe\">\n",
       "  <thead>\n",
       "    <tr style=\"text-align: right;\">\n",
       "      <th></th>\n",
       "      <th>Unnamed: 0</th>\n",
       "      <th>Timestamp</th>\n",
       "      <th>Degree</th>\n",
       "      <th>Experience</th>\n",
       "      <th>Role</th>\n",
       "      <th>Company</th>\n",
       "      <th>Company location</th>\n",
       "      <th>Country/Location</th>\n",
       "      <th>Monthly Salary</th>\n",
       "    </tr>\n",
       "  </thead>\n",
       "  <tbody>\n",
       "    <tr>\n",
       "      <th>0</th>\n",
       "      <td>NaN</td>\n",
       "      <td>2020-02-15 08:55:40</td>\n",
       "      <td>Y</td>\n",
       "      <td>4</td>\n",
       "      <td>Backend Engineer</td>\n",
       "      <td>National Finance Company</td>\n",
       "      <td>Nigeria</td>\n",
       "      <td>Lagos Nigeria</td>\n",
       "      <td>401,000 - 500,000</td>\n",
       "    </tr>\n",
       "    <tr>\n",
       "      <th>1</th>\n",
       "      <td>NaN</td>\n",
       "      <td>2020-02-15 08:59:54</td>\n",
       "      <td>Y</td>\n",
       "      <td>2</td>\n",
       "      <td>Software Engineer</td>\n",
       "      <td>NaN</td>\n",
       "      <td>Nigeria</td>\n",
       "      <td>Nigeria</td>\n",
       "      <td>201,000 - 300,000</td>\n",
       "    </tr>\n",
       "    <tr>\n",
       "      <th>2</th>\n",
       "      <td>NaN</td>\n",
       "      <td>2020-02-15 09:08:27</td>\n",
       "      <td>Y</td>\n",
       "      <td>3</td>\n",
       "      <td>Associate Software Engineer</td>\n",
       "      <td>Andela</td>\n",
       "      <td>Nigeria</td>\n",
       "      <td>Lagos</td>\n",
       "      <td>101,000 - 200,000</td>\n",
       "    </tr>\n",
       "    <tr>\n",
       "      <th>3</th>\n",
       "      <td>NaN</td>\n",
       "      <td>2020-02-15 09:10:24</td>\n",
       "      <td>Y</td>\n",
       "      <td>2</td>\n",
       "      <td>Junior software engineer</td>\n",
       "      <td>NaN</td>\n",
       "      <td>America</td>\n",
       "      <td>Nigeria</td>\n",
       "      <td>&gt;500,000</td>\n",
       "    </tr>\n",
       "    <tr>\n",
       "      <th>4</th>\n",
       "      <td>NaN</td>\n",
       "      <td>2020-02-15 09:10:59</td>\n",
       "      <td>Y</td>\n",
       "      <td>2</td>\n",
       "      <td>iOS Developer</td>\n",
       "      <td>SC</td>\n",
       "      <td>Nigeria</td>\n",
       "      <td>Lagos</td>\n",
       "      <td>201,000 - 300,000</td>\n",
       "    </tr>\n",
       "  </tbody>\n",
       "</table>\n",
       "</div>"
      ],
      "text/plain": [
       "   Unnamed: 0            Timestamp Degree   Experience  \\\n",
       "0         NaN  2020-02-15 08:55:40       Y           4   \n",
       "1         NaN  2020-02-15 08:59:54       Y           2   \n",
       "2         NaN  2020-02-15 09:08:27       Y           3   \n",
       "3         NaN  2020-02-15 09:10:24       Y           2   \n",
       "4         NaN  2020-02-15 09:10:59       Y           2   \n",
       "\n",
       "                          Role                   Company Company location  \\\n",
       "0             Backend Engineer  National Finance Company          Nigeria   \n",
       "1           Software Engineer                        NaN          Nigeria   \n",
       "2  Associate Software Engineer                    Andela          Nigeria   \n",
       "3     Junior software engineer                       NaN          America   \n",
       "4                iOS Developer                        SC          Nigeria   \n",
       "\n",
       "  Country/Location     Monthly Salary  \n",
       "0    Lagos Nigeria  401,000 - 500,000  \n",
       "1         Nigeria   201,000 - 300,000  \n",
       "2            Lagos  101,000 - 200,000  \n",
       "3          Nigeria           >500,000  \n",
       "4            Lagos  201,000 - 300,000  "
      ]
     },
     "execution_count": 2,
     "metadata": {},
     "output_type": "execute_result"
    }
   ],
   "source": [
    "# Import dataset.\n",
    "\n",
    "data = pd.read_excel('C:\\\\Users\\\\JAHFAITH IROKANULO\\\\Downloads\\\\Salary dataset response.xlsx')\n",
    "data.head()"
   ]
  },
  {
   "cell_type": "code",
   "execution_count": 3,
   "metadata": {},
   "outputs": [
    {
     "data": {
      "text/plain": [
       "((244, 9), 2196)"
      ]
     },
     "execution_count": 3,
     "metadata": {},
     "output_type": "execute_result"
    }
   ],
   "source": [
    "# Data size.\n",
    "\n",
    "data.shape, data.size"
   ]
  },
  {
   "cell_type": "code",
   "execution_count": 4,
   "metadata": {},
   "outputs": [
    {
     "data": {
      "text/plain": [
       "Index(['Unnamed: 0', 'Timestamp', 'Degree ', 'Experience', 'Role', 'Company',\n",
       "       'Company location', 'Country/Location', 'Monthly Salary'],\n",
       "      dtype='object')"
      ]
     },
     "execution_count": 4,
     "metadata": {},
     "output_type": "execute_result"
    }
   ],
   "source": [
    "data.columns"
   ]
  },
  {
   "cell_type": "code",
   "execution_count": 5,
   "metadata": {},
   "outputs": [
    {
     "data": {
      "text/plain": [
       "(244, 5)"
      ]
     },
     "execution_count": 5,
     "metadata": {},
     "output_type": "execute_result"
    }
   ],
   "source": [
    "# Drop columns that are not needed.\n",
    "\n",
    "data = data.drop(['Unnamed: 0', 'Timestamp', 'Company', 'Country/Location'], axis=1)\n",
    "data.shape"
   ]
  },
  {
   "cell_type": "code",
   "execution_count": 6,
   "metadata": {},
   "outputs": [],
   "source": [
    "data = data.rename(columns={'Degree ':'Degree'})"
   ]
  },
  {
   "cell_type": "code",
   "execution_count": 7,
   "metadata": {},
   "outputs": [
    {
     "data": {
      "text/plain": [
       "Degree              0\n",
       "Experience          0\n",
       "Role                0\n",
       "Company location    0\n",
       "Monthly Salary      7\n",
       "dtype: int64"
      ]
     },
     "execution_count": 7,
     "metadata": {},
     "output_type": "execute_result"
    }
   ],
   "source": [
    "data.isna().sum()"
   ]
  },
  {
   "cell_type": "code",
   "execution_count": 8,
   "metadata": {},
   "outputs": [
    {
     "data": {
      "text/plain": [
       "(237, 5)"
      ]
     },
     "execution_count": 8,
     "metadata": {},
     "output_type": "execute_result"
    }
   ],
   "source": [
    "# Drop the data points with missing salary values.\n",
    "\n",
    "data = data.dropna()\n",
    "data.shape"
   ]
  },
  {
   "cell_type": "code",
   "execution_count": null,
   "metadata": {},
   "outputs": [],
   "source": []
  },
  {
   "cell_type": "code",
   "execution_count": 9,
   "metadata": {},
   "outputs": [
    {
     "data": {
      "text/plain": [
       ">500,000             73\n",
       "101,000 - 200,000    42\n",
       "201,000 - 300,000    38\n",
       "50,000 - 100,000     34\n",
       "301,000 - 400,000    31\n",
       "401,000 - 500,000    18\n",
       "< 50,000              1\n",
       "Name: Monthly Salary, dtype: int64"
      ]
     },
     "execution_count": 9,
     "metadata": {},
     "output_type": "execute_result"
    }
   ],
   "source": [
    "# Let's see the distribution of the target variable -Monthly Salary.\n",
    "\n",
    "data['Monthly Salary'].value_counts()"
   ]
  },
  {
   "cell_type": "code",
   "execution_count": 10,
   "metadata": {},
   "outputs": [
    {
     "data": {
      "text/plain": [
       "<matplotlib.axes._subplots.AxesSubplot at 0x25163e3dcc0>"
      ]
     },
     "execution_count": 10,
     "metadata": {},
     "output_type": "execute_result"
    },
    {
     "data": {
      "image/png": "[encoded data removed]",
      "text/plain": [
       "<matplotlib.figure.Figure at 0x25163e3d4e0>"
      ]
     },
     "metadata": {},
     "output_type": "display_data"
    }
   ],
   "source": [
    "# Visualizing the distribution.\n",
    "\n",
    "data['Monthly Salary'].value_counts().plot.bar()"
   ]
  },
  {
   "cell_type": "code",
   "execution_count": 11,
   "metadata": {},
   "outputs": [
    {
     "data": {
      "text/plain": [
       "Monthly Salary\n",
       "101,000 - 200,000                                            [Nigeria]\n",
       "201,000 - 300,000           [Nigeria, Europe, America, Rest of africa]\n",
       "301,000 - 400,000                    [Ghana, Nigeria, America, Europe]\n",
       "401,000 - 500,000                                            [Nigeria]\n",
       "50,000 - 100,000                                      [Nigeria, Ghana]\n",
       "< 50,000                                                     [Nigeria]\n",
       ">500,000             [America, Nigeria, Europe, Ghana, Rest of africa]\n",
       "Name: Company location, dtype: object"
      ]
     },
     "execution_count": 11,
     "metadata": {},
     "output_type": "execute_result"
    }
   ],
   "source": [
    "# Representation of countries in each salary scale. \n",
    "cs = data.groupby('Monthly Salary')['Company location'].unique()\n",
    "cs"
   ]
  },
  {
   "cell_type": "markdown",
   "metadata": {},
   "source": [
    "The above analysis shows the countries that are represented in each pay scale. Only Nigeria pays her developers between 401k-500k, Only Nigeria and Ghana pay below 201k. No American or European company paid below 201k."
   ]
  },
  {
   "cell_type": "code",
   "execution_count": 12,
   "metadata": {},
   "outputs": [
    {
     "data": {
      "text/html": [
       "<div>\n",
       "<style scoped>\n",
       "    .dataframe tbody tr th:only-of-type {\n",
       "        vertical-align: middle;\n",
       "    }\n",
       "\n",
       "    .dataframe tbody tr th {\n",
       "        vertical-align: top;\n",
       "    }\n",
       "\n",
       "    .dataframe thead th {\n",
       "        text-align: right;\n",
       "    }\n",
       "</style>\n",
       "<table border=\"1\" class=\"dataframe\">\n",
       "  <thead>\n",
       "    <tr style=\"text-align: right;\">\n",
       "      <th></th>\n",
       "      <th></th>\n",
       "      <th>Degree</th>\n",
       "      <th>Experience</th>\n",
       "      <th>Role</th>\n",
       "    </tr>\n",
       "    <tr>\n",
       "      <th>Company location</th>\n",
       "      <th>Monthly Salary</th>\n",
       "      <th></th>\n",
       "      <th></th>\n",
       "      <th></th>\n",
       "    </tr>\n",
       "  </thead>\n",
       "  <tbody>\n",
       "    <tr>\n",
       "      <th rowspan=\"3\" valign=\"top\">America</th>\n",
       "      <th>201,000 - 300,000</th>\n",
       "      <td>2</td>\n",
       "      <td>2</td>\n",
       "      <td>2</td>\n",
       "    </tr>\n",
       "    <tr>\n",
       "      <th>301,000 - 400,000</th>\n",
       "      <td>1</td>\n",
       "      <td>1</td>\n",
       "      <td>1</td>\n",
       "    </tr>\n",
       "    <tr>\n",
       "      <th>&gt;500,000</th>\n",
       "      <td>28</td>\n",
       "      <td>28</td>\n",
       "      <td>28</td>\n",
       "    </tr>\n",
       "    <tr>\n",
       "      <th rowspan=\"3\" valign=\"top\">Europe</th>\n",
       "      <th>201,000 - 300,000</th>\n",
       "      <td>1</td>\n",
       "      <td>1</td>\n",
       "      <td>1</td>\n",
       "    </tr>\n",
       "    <tr>\n",
       "      <th>301,000 - 400,000</th>\n",
       "      <td>1</td>\n",
       "      <td>1</td>\n",
       "      <td>1</td>\n",
       "    </tr>\n",
       "    <tr>\n",
       "      <th>&gt;500,000</th>\n",
       "      <td>13</td>\n",
       "      <td>13</td>\n",
       "      <td>13</td>\n",
       "    </tr>\n",
       "    <tr>\n",
       "      <th rowspan=\"3\" valign=\"top\">Ghana</th>\n",
       "      <th>301,000 - 400,000</th>\n",
       "      <td>1</td>\n",
       "      <td>1</td>\n",
       "      <td>1</td>\n",
       "    </tr>\n",
       "    <tr>\n",
       "      <th>50,000 - 100,000</th>\n",
       "      <td>1</td>\n",
       "      <td>1</td>\n",
       "      <td>1</td>\n",
       "    </tr>\n",
       "    <tr>\n",
       "      <th>&gt;500,000</th>\n",
       "      <td>1</td>\n",
       "      <td>1</td>\n",
       "      <td>1</td>\n",
       "    </tr>\n",
       "    <tr>\n",
       "      <th rowspan=\"7\" valign=\"top\">Nigeria</th>\n",
       "      <th>101,000 - 200,000</th>\n",
       "      <td>42</td>\n",
       "      <td>42</td>\n",
       "      <td>42</td>\n",
       "    </tr>\n",
       "    <tr>\n",
       "      <th>201,000 - 300,000</th>\n",
       "      <td>34</td>\n",
       "      <td>34</td>\n",
       "      <td>34</td>\n",
       "    </tr>\n",
       "    <tr>\n",
       "      <th>301,000 - 400,000</th>\n",
       "      <td>28</td>\n",
       "      <td>28</td>\n",
       "      <td>28</td>\n",
       "    </tr>\n",
       "    <tr>\n",
       "      <th>401,000 - 500,000</th>\n",
       "      <td>18</td>\n",
       "      <td>18</td>\n",
       "      <td>18</td>\n",
       "    </tr>\n",
       "    <tr>\n",
       "      <th>50,000 - 100,000</th>\n",
       "      <td>33</td>\n",
       "      <td>33</td>\n",
       "      <td>33</td>\n",
       "    </tr>\n",
       "    <tr>\n",
       "      <th>&lt; 50,000</th>\n",
       "      <td>1</td>\n",
       "      <td>1</td>\n",
       "      <td>1</td>\n",
       "    </tr>\n",
       "    <tr>\n",
       "      <th>&gt;500,000</th>\n",
       "      <td>29</td>\n",
       "      <td>29</td>\n",
       "      <td>29</td>\n",
       "    </tr>\n",
       "    <tr>\n",
       "      <th rowspan=\"2\" valign=\"top\">Rest of africa</th>\n",
       "      <th>201,000 - 300,000</th>\n",
       "      <td>1</td>\n",
       "      <td>1</td>\n",
       "      <td>1</td>\n",
       "    </tr>\n",
       "    <tr>\n",
       "      <th>&gt;500,000</th>\n",
       "      <td>2</td>\n",
       "      <td>2</td>\n",
       "      <td>2</td>\n",
       "    </tr>\n",
       "  </tbody>\n",
       "</table>\n",
       "</div>"
      ],
      "text/plain": [
       "                                    Degree  Experience  Role\n",
       "Company location Monthly Salary                             \n",
       "America          201,000 - 300,000       2           2     2\n",
       "                 301,000 - 400,000       1           1     1\n",
       "                 >500,000               28          28    28\n",
       "Europe           201,000 - 300,000       1           1     1\n",
       "                 301,000 - 400,000       1           1     1\n",
       "                 >500,000               13          13    13\n",
       "Ghana            301,000 - 400,000       1           1     1\n",
       "                 50,000 - 100,000        1           1     1\n",
       "                 >500,000                1           1     1\n",
       "Nigeria          101,000 - 200,000      42          42    42\n",
       "                 201,000 - 300,000      34          34    34\n",
       "                 301,000 - 400,000      28          28    28\n",
       "                 401,000 - 500,000      18          18    18\n",
       "                 50,000 - 100,000       33          33    33\n",
       "                 < 50,000                1           1     1\n",
       "                 >500,000               29          29    29\n",
       "Rest of africa   201,000 - 300,000       1           1     1\n",
       "                 >500,000                2           2     2"
      ]
     },
     "execution_count": 12,
     "metadata": {},
     "output_type": "execute_result"
    }
   ],
   "source": [
    "# Grouping the data by Company Location and Salary to see which locations have the highest Salary range.\n",
    "\n",
    "data.groupby(['Company location', 'Monthly Salary']).count()"
   ]
  },
  {
   "cell_type": "markdown",
   "metadata": {},
   "source": [
    "28 out of 31 Nigerians working remotely in America earn over 500k monthly.\n",
    "\n",
    "13 out of 15 Nigerians working remotely in Europe earn over 500k monthly.\n",
    "\n",
    "In Nigeria, majority of the tech talents earn between 101k - 200k."
   ]
  },
  {
   "cell_type": "code",
   "execution_count": 13,
   "metadata": {},
   "outputs": [],
   "source": [
    "# Encoding the target variable for future modeling.\n",
    "from sklearn.preprocessing import LabelEncoder, OneHotEncoder\n",
    "\n",
    "le = LabelEncoder()\n",
    "data['Monthly Salary'] = le.fit_transform(data['Monthly Salary'])"
   ]
  },
  {
   "cell_type": "code",
   "execution_count": 14,
   "metadata": {},
   "outputs": [
    {
     "data": {
      "text/plain": [
       "6    73\n",
       "0    42\n",
       "1    38\n",
       "4    34\n",
       "2    31\n",
       "3    18\n",
       "5     1\n",
       "Name: Monthly Salary, dtype: int64"
      ]
     },
     "execution_count": 14,
     "metadata": {},
     "output_type": "execute_result"
    }
   ],
   "source": [
    "data['Monthly Salary'].value_counts()"
   ]
  },
  {
   "cell_type": "code",
   "execution_count": null,
   "metadata": {},
   "outputs": [],
   "source": []
  },
  {
   "cell_type": "code",
   "execution_count": 15,
   "metadata": {},
   "outputs": [
    {
     "data": {
      "text/plain": [
       "Nigeria           185\n",
       "America            31\n",
       "Europe             15\n",
       "Rest of africa      3\n",
       "Ghana               3\n",
       "Name: Company location, dtype: int64"
      ]
     },
     "execution_count": 15,
     "metadata": {},
     "output_type": "execute_result"
    }
   ],
   "source": [
    "# Company Location.\n",
    "\n",
    "data['Company location'].value_counts()"
   ]
  },
  {
   "cell_type": "code",
   "execution_count": 16,
   "metadata": {},
   "outputs": [
    {
     "data": {
      "text/plain": [
       "<matplotlib.axes._subplots.AxesSubplot at 0x25166048860>"
      ]
     },
     "execution_count": 16,
     "metadata": {},
     "output_type": "execute_result"
    },
    {
     "data": {
      "image/png": "[encoded data removed]",
      "text/plain": [
       "<matplotlib.figure.Figure at 0x251660481d0>"
      ]
     },
     "metadata": {},
     "output_type": "display_data"
    }
   ],
   "source": [
    "data['Company location'].replace({'Ghana':'Rest of africa'}, inplace=True)\n",
    "data['Company location'].value_counts().plot.bar()"
   ]
  },
  {
   "cell_type": "code",
   "execution_count": null,
   "metadata": {},
   "outputs": [],
   "source": []
  },
  {
   "cell_type": "code",
   "execution_count": 17,
   "metadata": {},
   "outputs": [],
   "source": [
    "# Title.\n",
    "# Let's class these roles into fewer categories and put them in a new column.\n",
    "\n",
    "def JobTitle(x):\n",
    "    DS = ['Data analyst ', 'Business Analyst', 'Data science intern ', 'Data scientist', \n",
    "         'Data Analyst/Business Intelligence Analyst', 'Business Data Analyst', 'Data Analyst', \n",
    "          'Risk analyst', 'Senior Analyst', 'Analyst',  'Data Scientist ', 'Data Scientist', 'Research analyst', \n",
    "         'Financial Analyst ', 'Senior Data Scientist', ]\n",
    "    \n",
    "    SE = ['Full-stack Software Engineer', 'Junior Software Developer', 'Mid-Level Software Developer ', \n",
    "         'Software Engineering Lead', 'Software dev', 'Intermidiate Dev', \n",
    "         'Senior Engineer', 'Junior Software engineer', 'Junior Engineer ', 'Software developer ', \n",
    "          'Engineering Lead', 'Fullstack software engineer', 'Android Engineer ','Junior Software developer ', \n",
    "         'Software Enginer', 'Senior software engineer ', 'Lead Software Developer', 'Freelance software developer', \n",
    "         'Senior Software developer', 'Sofware developer', 'Android engineer', 'Mobile developer ', \n",
    "         'Software engineer', 'Jnr software developer ', 'Senior Software Engineer', 'Software developer',\n",
    "          'Developer Advocate & Software Engineer ', 'Senior Software Engineer ', 'Software Engineer ',\n",
    "         'Associate Software Engineer', 'Junior software engineer', 'iOS Developer', 'Software engineer ', \n",
    "          'Software Developer ', 'Software Developer', 'Senior software engineer', 'Software Consultant',\n",
    "       'Android Developer', 'Software Engineer', 'Android Engineer', 'Junior Software Developer ', \n",
    "          'Developer', 'Senior Developer', 'Developer Advocate ', 'software developer ',]\n",
    "    \n",
    "    FD = ['Frontend Developer', 'Front-end Developer', 'Frontend web development', 'Frontend/mobile developer ', \n",
    "          'Frontend engineer', 'React Native Developer', 'Developer ', 'Frontend Development', 'Frontend developers',\n",
    "       'Front End Engineer', 'React native developer', 'frontend', 'WordPress Developer', 'Frontend Engineer', \n",
    "         'Frontend/ mobile engineer ', 'Front end developer ', 'Front-End Developer(Intern)', 'Front End Developer', \n",
    "         'frontend developer']\n",
    "    \n",
    "    BD = ['Backend engineer.', 'Backend Developer ', 'Back end developer', 'Backend ', 'backend developer ', \n",
    "         'Mid level backend engineer ',  'Backend developer ', 'Backend Developer', 'Backend Engineer ',  \n",
    "         'Backend Engineer', 'Backend developer']\n",
    "    \n",
    "    FS = ['FullStack Developer ',  'Full stack engineer', 'Full Stack', 'Fullstack', 'Full Stack', \n",
    "         'Fullstack Developer', 'Full stack (heavy on the backend) ', 'Full stack Web Developer ', 'Web developer ']\n",
    "    \n",
    "    UD = ['UX Designer', 'Ui/Ux designer', 'UX Designer ', 'Graphics Designer', 'Designer (Remote) ', \n",
    "          'Designer']\n",
    "    \n",
    "    DE = ['Devops', 'Data Engineer ', 'Software/DevOps Engineer ']\n",
    "    \n",
    "    PD = ['Associate Product Analyst', 'Product manager ', 'Product Designer ', 'Product analyst', \n",
    "         'Product Associate ', 'Project Manager', 'Program Manager', 'Product Designer']\n",
    "    \n",
    "    IT = ['IT Support ', 'Support ', 'Project support officer', 'Operations', 'Senior Systems Administrator', \n",
    "         'Technical support', 'CTO', 'support', 'Information Systems Manager',  'Quality assurance engineer']\n",
    "    \n",
    "    DM = ['Digital channels analyst',]\n",
    "    \n",
    "    aa = [  ]\n",
    "    \n",
    "    if x in DS:\n",
    "        return 'Data Scientist/Analyst'\n",
    "    elif x in SE:\n",
    "        return 'Software Engineer'\n",
    "    elif x in FD:\n",
    "        return 'Frontend Developer'\n",
    "    elif x in BD:\n",
    "        return 'Backend Developer'\n",
    "    elif x in FS:\n",
    "        return 'Full Stack Developer'\n",
    "    elif x in UD:\n",
    "        return 'UI/UX/Graphics Designer'\n",
    "    elif x in DE:\n",
    "        return 'Data Engineer/Devops'\n",
    "    elif x in PD:\n",
    "        return 'Product Designer/Manager'\n",
    "    elif x in IT:\n",
    "        return 'IT/Operations'\n",
    "    else:\n",
    "        return 'Others'"
   ]
  },
  {
   "cell_type": "code",
   "execution_count": 18,
   "metadata": {},
   "outputs": [
    {
     "data": {
      "text/html": [
       "<div>\n",
       "<style scoped>\n",
       "    .dataframe tbody tr th:only-of-type {\n",
       "        vertical-align: middle;\n",
       "    }\n",
       "\n",
       "    .dataframe tbody tr th {\n",
       "        vertical-align: top;\n",
       "    }\n",
       "\n",
       "    .dataframe thead th {\n",
       "        text-align: right;\n",
       "    }\n",
       "</style>\n",
       "<table border=\"1\" class=\"dataframe\">\n",
       "  <thead>\n",
       "    <tr style=\"text-align: right;\">\n",
       "      <th></th>\n",
       "      <th>Degree</th>\n",
       "      <th>Experience</th>\n",
       "      <th>Role</th>\n",
       "      <th>Company location</th>\n",
       "      <th>Monthly Salary</th>\n",
       "      <th>Title</th>\n",
       "    </tr>\n",
       "  </thead>\n",
       "  <tbody>\n",
       "    <tr>\n",
       "      <th>0</th>\n",
       "      <td>Y</td>\n",
       "      <td>4</td>\n",
       "      <td>Backend Engineer</td>\n",
       "      <td>Nigeria</td>\n",
       "      <td>3</td>\n",
       "      <td>Backend Developer</td>\n",
       "    </tr>\n",
       "    <tr>\n",
       "      <th>1</th>\n",
       "      <td>Y</td>\n",
       "      <td>2</td>\n",
       "      <td>Software Engineer</td>\n",
       "      <td>Nigeria</td>\n",
       "      <td>1</td>\n",
       "      <td>Software Engineer</td>\n",
       "    </tr>\n",
       "    <tr>\n",
       "      <th>2</th>\n",
       "      <td>Y</td>\n",
       "      <td>3</td>\n",
       "      <td>Associate Software Engineer</td>\n",
       "      <td>Nigeria</td>\n",
       "      <td>0</td>\n",
       "      <td>Software Engineer</td>\n",
       "    </tr>\n",
       "    <tr>\n",
       "      <th>3</th>\n",
       "      <td>Y</td>\n",
       "      <td>2</td>\n",
       "      <td>Junior software engineer</td>\n",
       "      <td>America</td>\n",
       "      <td>6</td>\n",
       "      <td>Software Engineer</td>\n",
       "    </tr>\n",
       "    <tr>\n",
       "      <th>4</th>\n",
       "      <td>Y</td>\n",
       "      <td>2</td>\n",
       "      <td>iOS Developer</td>\n",
       "      <td>Nigeria</td>\n",
       "      <td>1</td>\n",
       "      <td>Software Engineer</td>\n",
       "    </tr>\n",
       "  </tbody>\n",
       "</table>\n",
       "</div>"
      ],
      "text/plain": [
       "  Degree  Experience                         Role Company location  \\\n",
       "0      Y           4             Backend Engineer          Nigeria   \n",
       "1      Y           2           Software Engineer           Nigeria   \n",
       "2      Y           3  Associate Software Engineer          Nigeria   \n",
       "3      Y           2     Junior software engineer          America   \n",
       "4      Y           2                iOS Developer          Nigeria   \n",
       "\n",
       "   Monthly Salary              Title  \n",
       "0               3  Backend Developer  \n",
       "1               1  Software Engineer  \n",
       "2               0  Software Engineer  \n",
       "3               6  Software Engineer  \n",
       "4               1  Software Engineer  "
      ]
     },
     "execution_count": 18,
     "metadata": {},
     "output_type": "execute_result"
    }
   ],
   "source": [
    "# Title is the parent/collective name of the different roles.\n",
    "\n",
    "data['Title'] = data['Role'].map(JobTitle)\n",
    "data.head()"
   ]
  },
  {
   "cell_type": "code",
   "execution_count": 19,
   "metadata": {},
   "outputs": [
    {
     "data": {
      "text/plain": [
       "Software Engineer           101\n",
       "Others                       33\n",
       "Frontend Developer           22\n",
       "Data Scientist/Analyst       20\n",
       "Backend Developer            16\n",
       "Product Designer/Manager     12\n",
       "IT/Operations                11\n",
       "Full Stack Developer         10\n",
       "UI/UX/Graphics Designer       9\n",
       "Data Engineer/Devops          3\n",
       "Name: Title, dtype: int64"
      ]
     },
     "execution_count": 19,
     "metadata": {},
     "output_type": "execute_result"
    }
   ],
   "source": [
    "data['Title'].value_counts()"
   ]
  },
  {
   "cell_type": "code",
   "execution_count": 20,
   "metadata": {},
   "outputs": [
    {
     "data": {
      "text/plain": [
       "<matplotlib.axes._subplots.AxesSubplot at 0x2516609d898>"
      ]
     },
     "execution_count": 20,
     "metadata": {},
     "output_type": "execute_result"
    },
    {
     "data": {
      "image/png": "[encoded data removed]",
      "text/plain": [
       "<matplotlib.figure.Figure at 0x2516608a6a0>"
      ]
     },
     "metadata": {},
     "output_type": "display_data"
    }
   ],
   "source": [
    "title_chart = data.groupby('Title')['Title'].count()\n",
    "title_chart.plot.pie()"
   ]
  },
  {
   "cell_type": "code",
   "execution_count": null,
   "metadata": {},
   "outputs": [],
   "source": []
  },
  {
   "cell_type": "code",
   "execution_count": 21,
   "metadata": {},
   "outputs": [
    {
     "data": {
      "text/plain": [
       "<matplotlib.axes._subplots.AxesSubplot at 0x2516610bef0>"
      ]
     },
     "execution_count": 21,
     "metadata": {},
     "output_type": "execute_result"
    },
    {
     "data": {
      "image/png": "[encoded data removed]",
      "text/plain": [
       "<matplotlib.figure.Figure at 0x251660f7710>"
      ]
     },
     "metadata": {},
     "output_type": "display_data"
    }
   ],
   "source": [
    "# Experience.\n",
    "data['Experience'].value_counts().plot.bar()"
   ]
  },
  {
   "cell_type": "code",
   "execution_count": null,
   "metadata": {},
   "outputs": [],
   "source": []
  },
  {
   "cell_type": "code",
   "execution_count": 22,
   "metadata": {},
   "outputs": [
    {
     "data": {
      "text/plain": [
       "<matplotlib.axes._subplots.AxesSubplot at 0x251661464a8>"
      ]
     },
     "execution_count": 22,
     "metadata": {},
     "output_type": "execute_result"
    },
    {
     "data": {
      "image/png": "[encoded data removed]",
      "text/plain": [
       "<matplotlib.figure.Figure at 0x2516610bf28>"
      ]
     },
     "metadata": {},
     "output_type": "display_data"
    }
   ],
   "source": [
    "# Distribution of degrees across tech applicants.\n",
    "\n",
    "sns.countplot(data['Degree'])"
   ]
  },
  {
   "cell_type": "code",
   "execution_count": 23,
   "metadata": {
    "scrolled": true
   },
   "outputs": [
    {
     "data": {
      "text/html": [
       "<div>\n",
       "<style scoped>\n",
       "    .dataframe tbody tr th:only-of-type {\n",
       "        vertical-align: middle;\n",
       "    }\n",
       "\n",
       "    .dataframe tbody tr th {\n",
       "        vertical-align: top;\n",
       "    }\n",
       "\n",
       "    .dataframe thead th {\n",
       "        text-align: right;\n",
       "    }\n",
       "</style>\n",
       "<table border=\"1\" class=\"dataframe\">\n",
       "  <thead>\n",
       "    <tr style=\"text-align: right;\">\n",
       "      <th></th>\n",
       "      <th>Degree</th>\n",
       "      <th>Experience</th>\n",
       "      <th>Role</th>\n",
       "      <th>Company location</th>\n",
       "      <th>Monthly Salary</th>\n",
       "      <th>Title</th>\n",
       "    </tr>\n",
       "  </thead>\n",
       "  <tbody>\n",
       "    <tr>\n",
       "      <th>9</th>\n",
       "      <td>N</td>\n",
       "      <td>2</td>\n",
       "      <td>Software Engineer</td>\n",
       "      <td>America</td>\n",
       "      <td>6</td>\n",
       "      <td>Software Engineer</td>\n",
       "    </tr>\n",
       "    <tr>\n",
       "      <th>11</th>\n",
       "      <td>N</td>\n",
       "      <td>3</td>\n",
       "      <td>Backend developer</td>\n",
       "      <td>Nigeria</td>\n",
       "      <td>0</td>\n",
       "      <td>Backend Developer</td>\n",
       "    </tr>\n",
       "    <tr>\n",
       "      <th>15</th>\n",
       "      <td>N</td>\n",
       "      <td>3</td>\n",
       "      <td>Software Engineer</td>\n",
       "      <td>Nigeria</td>\n",
       "      <td>0</td>\n",
       "      <td>Software Engineer</td>\n",
       "    </tr>\n",
       "    <tr>\n",
       "      <th>16</th>\n",
       "      <td>N</td>\n",
       "      <td>2</td>\n",
       "      <td>Android Developer</td>\n",
       "      <td>Europe</td>\n",
       "      <td>6</td>\n",
       "      <td>Software Engineer</td>\n",
       "    </tr>\n",
       "    <tr>\n",
       "      <th>19</th>\n",
       "      <td>N</td>\n",
       "      <td>2</td>\n",
       "      <td>Android Engineer</td>\n",
       "      <td>Nigeria</td>\n",
       "      <td>1</td>\n",
       "      <td>Software Engineer</td>\n",
       "    </tr>\n",
       "    <tr>\n",
       "      <th>23</th>\n",
       "      <td>N</td>\n",
       "      <td>3</td>\n",
       "      <td>Software Engineer</td>\n",
       "      <td>Europe</td>\n",
       "      <td>6</td>\n",
       "      <td>Software Engineer</td>\n",
       "    </tr>\n",
       "    <tr>\n",
       "      <th>27</th>\n",
       "      <td>N</td>\n",
       "      <td>1</td>\n",
       "      <td>Backend Engineer</td>\n",
       "      <td>Nigeria</td>\n",
       "      <td>2</td>\n",
       "      <td>Backend Developer</td>\n",
       "    </tr>\n",
       "    <tr>\n",
       "      <th>36</th>\n",
       "      <td>N</td>\n",
       "      <td>2</td>\n",
       "      <td>Jnr software developer</td>\n",
       "      <td>Nigeria</td>\n",
       "      <td>0</td>\n",
       "      <td>Software Engineer</td>\n",
       "    </tr>\n",
       "    <tr>\n",
       "      <th>39</th>\n",
       "      <td>N</td>\n",
       "      <td>8</td>\n",
       "      <td>Developer Advocate &amp; Software Engineer</td>\n",
       "      <td>America</td>\n",
       "      <td>6</td>\n",
       "      <td>Software Engineer</td>\n",
       "    </tr>\n",
       "    <tr>\n",
       "      <th>41</th>\n",
       "      <td>N</td>\n",
       "      <td>2</td>\n",
       "      <td>Designer</td>\n",
       "      <td>Nigeria</td>\n",
       "      <td>1</td>\n",
       "      <td>UI/UX/Graphics Designer</td>\n",
       "    </tr>\n",
       "    <tr>\n",
       "      <th>46</th>\n",
       "      <td>N</td>\n",
       "      <td>3</td>\n",
       "      <td>Front end developer</td>\n",
       "      <td>Europe</td>\n",
       "      <td>6</td>\n",
       "      <td>Frontend Developer</td>\n",
       "    </tr>\n",
       "    <tr>\n",
       "      <th>50</th>\n",
       "      <td>N</td>\n",
       "      <td>4</td>\n",
       "      <td>Full stack (heavy on the backend)</td>\n",
       "      <td>Nigeria</td>\n",
       "      <td>2</td>\n",
       "      <td>Full Stack Developer</td>\n",
       "    </tr>\n",
       "    <tr>\n",
       "      <th>53</th>\n",
       "      <td>N</td>\n",
       "      <td>3</td>\n",
       "      <td>Frontend Engineer</td>\n",
       "      <td>America</td>\n",
       "      <td>6</td>\n",
       "      <td>Frontend Developer</td>\n",
       "    </tr>\n",
       "    <tr>\n",
       "      <th>55</th>\n",
       "      <td>N</td>\n",
       "      <td>3</td>\n",
       "      <td>Software Engineer</td>\n",
       "      <td>Europe</td>\n",
       "      <td>1</td>\n",
       "      <td>Software Engineer</td>\n",
       "    </tr>\n",
       "    <tr>\n",
       "      <th>59</th>\n",
       "      <td>N</td>\n",
       "      <td>2</td>\n",
       "      <td>Software Developer</td>\n",
       "      <td>Europe</td>\n",
       "      <td>6</td>\n",
       "      <td>Software Engineer</td>\n",
       "    </tr>\n",
       "    <tr>\n",
       "      <th>64</th>\n",
       "      <td>N</td>\n",
       "      <td>3</td>\n",
       "      <td>Fullstack Developer</td>\n",
       "      <td>America</td>\n",
       "      <td>6</td>\n",
       "      <td>Full Stack Developer</td>\n",
       "    </tr>\n",
       "    <tr>\n",
       "      <th>67</th>\n",
       "      <td>N</td>\n",
       "      <td>3</td>\n",
       "      <td>Software engineer</td>\n",
       "      <td>Nigeria</td>\n",
       "      <td>4</td>\n",
       "      <td>Software Engineer</td>\n",
       "    </tr>\n",
       "    <tr>\n",
       "      <th>68</th>\n",
       "      <td>N</td>\n",
       "      <td>4</td>\n",
       "      <td>Backend developer</td>\n",
       "      <td>Nigeria</td>\n",
       "      <td>6</td>\n",
       "      <td>Backend Developer</td>\n",
       "    </tr>\n",
       "    <tr>\n",
       "      <th>71</th>\n",
       "      <td>N</td>\n",
       "      <td>3</td>\n",
       "      <td>Fullstack</td>\n",
       "      <td>America</td>\n",
       "      <td>6</td>\n",
       "      <td>Full Stack Developer</td>\n",
       "    </tr>\n",
       "    <tr>\n",
       "      <th>72</th>\n",
       "      <td>N</td>\n",
       "      <td>5</td>\n",
       "      <td>Product Designer</td>\n",
       "      <td>Nigeria</td>\n",
       "      <td>1</td>\n",
       "      <td>Product Designer/Manager</td>\n",
       "    </tr>\n",
       "    <tr>\n",
       "      <th>74</th>\n",
       "      <td>N</td>\n",
       "      <td>3</td>\n",
       "      <td>Associate Software Engineer</td>\n",
       "      <td>Nigeria</td>\n",
       "      <td>1</td>\n",
       "      <td>Software Engineer</td>\n",
       "    </tr>\n",
       "    <tr>\n",
       "      <th>75</th>\n",
       "      <td>N</td>\n",
       "      <td>1</td>\n",
       "      <td>Full Stack</td>\n",
       "      <td>Nigeria</td>\n",
       "      <td>4</td>\n",
       "      <td>Full Stack Developer</td>\n",
       "    </tr>\n",
       "    <tr>\n",
       "      <th>76</th>\n",
       "      <td>N</td>\n",
       "      <td>4</td>\n",
       "      <td>Android Developer</td>\n",
       "      <td>Nigeria</td>\n",
       "      <td>3</td>\n",
       "      <td>Software Engineer</td>\n",
       "    </tr>\n",
       "    <tr>\n",
       "      <th>77</th>\n",
       "      <td>N</td>\n",
       "      <td>4</td>\n",
       "      <td>frontend</td>\n",
       "      <td>Nigeria</td>\n",
       "      <td>6</td>\n",
       "      <td>Frontend Developer</td>\n",
       "    </tr>\n",
       "    <tr>\n",
       "      <th>80</th>\n",
       "      <td>N</td>\n",
       "      <td>3</td>\n",
       "      <td>Software Engineer</td>\n",
       "      <td>Nigeria</td>\n",
       "      <td>1</td>\n",
       "      <td>Software Engineer</td>\n",
       "    </tr>\n",
       "    <tr>\n",
       "      <th>82</th>\n",
       "      <td>N</td>\n",
       "      <td>6</td>\n",
       "      <td>Freelance software developer</td>\n",
       "      <td>Europe</td>\n",
       "      <td>6</td>\n",
       "      <td>Software Engineer</td>\n",
       "    </tr>\n",
       "    <tr>\n",
       "      <th>89</th>\n",
       "      <td>N</td>\n",
       "      <td>3</td>\n",
       "      <td>backend developer</td>\n",
       "      <td>Nigeria</td>\n",
       "      <td>6</td>\n",
       "      <td>Backend Developer</td>\n",
       "    </tr>\n",
       "    <tr>\n",
       "      <th>90</th>\n",
       "      <td>N</td>\n",
       "      <td>3</td>\n",
       "      <td>software developer</td>\n",
       "      <td>Nigeria</td>\n",
       "      <td>2</td>\n",
       "      <td>Software Engineer</td>\n",
       "    </tr>\n",
       "    <tr>\n",
       "      <th>92</th>\n",
       "      <td>N</td>\n",
       "      <td>7</td>\n",
       "      <td>Lead Software Developer</td>\n",
       "      <td>America</td>\n",
       "      <td>6</td>\n",
       "      <td>Software Engineer</td>\n",
       "    </tr>\n",
       "    <tr>\n",
       "      <th>101</th>\n",
       "      <td>N</td>\n",
       "      <td>3</td>\n",
       "      <td>Frontend Development</td>\n",
       "      <td>Europe</td>\n",
       "      <td>6</td>\n",
       "      <td>Frontend Developer</td>\n",
       "    </tr>\n",
       "    <tr>\n",
       "      <th>102</th>\n",
       "      <td>N</td>\n",
       "      <td>2</td>\n",
       "      <td>Frontend developers</td>\n",
       "      <td>America</td>\n",
       "      <td>6</td>\n",
       "      <td>Frontend Developer</td>\n",
       "    </tr>\n",
       "    <tr>\n",
       "      <th>103</th>\n",
       "      <td>N</td>\n",
       "      <td>3</td>\n",
       "      <td>Software developer</td>\n",
       "      <td>Nigeria</td>\n",
       "      <td>2</td>\n",
       "      <td>Software Engineer</td>\n",
       "    </tr>\n",
       "    <tr>\n",
       "      <th>105</th>\n",
       "      <td>N</td>\n",
       "      <td>5</td>\n",
       "      <td>Android Developer</td>\n",
       "      <td>Nigeria</td>\n",
       "      <td>3</td>\n",
       "      <td>Software Engineer</td>\n",
       "    </tr>\n",
       "    <tr>\n",
       "      <th>112</th>\n",
       "      <td>N</td>\n",
       "      <td>1</td>\n",
       "      <td>Software engineer</td>\n",
       "      <td>Nigeria</td>\n",
       "      <td>4</td>\n",
       "      <td>Software Engineer</td>\n",
       "    </tr>\n",
       "    <tr>\n",
       "      <th>114</th>\n",
       "      <td>N</td>\n",
       "      <td>4</td>\n",
       "      <td>Software Developer</td>\n",
       "      <td>Nigeria</td>\n",
       "      <td>4</td>\n",
       "      <td>Software Engineer</td>\n",
       "    </tr>\n",
       "    <tr>\n",
       "      <th>116</th>\n",
       "      <td>N</td>\n",
       "      <td>1</td>\n",
       "      <td>Team Lead</td>\n",
       "      <td>America</td>\n",
       "      <td>6</td>\n",
       "      <td>Others</td>\n",
       "    </tr>\n",
       "    <tr>\n",
       "      <th>124</th>\n",
       "      <td>N</td>\n",
       "      <td>2</td>\n",
       "      <td>Data Scientist</td>\n",
       "      <td>Nigeria</td>\n",
       "      <td>0</td>\n",
       "      <td>Data Scientist/Analyst</td>\n",
       "    </tr>\n",
       "    <tr>\n",
       "      <th>128</th>\n",
       "      <td>N</td>\n",
       "      <td>4</td>\n",
       "      <td>Software engineer</td>\n",
       "      <td>Nigeria</td>\n",
       "      <td>1</td>\n",
       "      <td>Software Engineer</td>\n",
       "    </tr>\n",
       "    <tr>\n",
       "      <th>145</th>\n",
       "      <td>N</td>\n",
       "      <td>2</td>\n",
       "      <td>Software Engineer</td>\n",
       "      <td>America</td>\n",
       "      <td>1</td>\n",
       "      <td>Software Engineer</td>\n",
       "    </tr>\n",
       "    <tr>\n",
       "      <th>153</th>\n",
       "      <td>N</td>\n",
       "      <td>5</td>\n",
       "      <td>Senior Engineer</td>\n",
       "      <td>Nigeria</td>\n",
       "      <td>6</td>\n",
       "      <td>Software Engineer</td>\n",
       "    </tr>\n",
       "    <tr>\n",
       "      <th>159</th>\n",
       "      <td>N</td>\n",
       "      <td>3</td>\n",
       "      <td>Software dev</td>\n",
       "      <td>America</td>\n",
       "      <td>6</td>\n",
       "      <td>Software Engineer</td>\n",
       "    </tr>\n",
       "    <tr>\n",
       "      <th>160</th>\n",
       "      <td>N</td>\n",
       "      <td>2</td>\n",
       "      <td>Backend Developer</td>\n",
       "      <td>America</td>\n",
       "      <td>1</td>\n",
       "      <td>Backend Developer</td>\n",
       "    </tr>\n",
       "    <tr>\n",
       "      <th>165</th>\n",
       "      <td>N</td>\n",
       "      <td>3</td>\n",
       "      <td>Fund manager</td>\n",
       "      <td>Nigeria</td>\n",
       "      <td>6</td>\n",
       "      <td>Others</td>\n",
       "    </tr>\n",
       "    <tr>\n",
       "      <th>167</th>\n",
       "      <td>N</td>\n",
       "      <td>3</td>\n",
       "      <td>Developer Advocate</td>\n",
       "      <td>America</td>\n",
       "      <td>6</td>\n",
       "      <td>Software Engineer</td>\n",
       "    </tr>\n",
       "    <tr>\n",
       "      <th>168</th>\n",
       "      <td>N</td>\n",
       "      <td>4</td>\n",
       "      <td>frontend developer</td>\n",
       "      <td>Nigeria</td>\n",
       "      <td>6</td>\n",
       "      <td>Frontend Developer</td>\n",
       "    </tr>\n",
       "    <tr>\n",
       "      <th>189</th>\n",
       "      <td>N</td>\n",
       "      <td>2</td>\n",
       "      <td>Product Designer</td>\n",
       "      <td>Nigeria</td>\n",
       "      <td>1</td>\n",
       "      <td>Product Designer/Manager</td>\n",
       "    </tr>\n",
       "    <tr>\n",
       "      <th>191</th>\n",
       "      <td>N</td>\n",
       "      <td>2</td>\n",
       "      <td>Junior Software Developer</td>\n",
       "      <td>Nigeria</td>\n",
       "      <td>0</td>\n",
       "      <td>Software Engineer</td>\n",
       "    </tr>\n",
       "    <tr>\n",
       "      <th>193</th>\n",
       "      <td>N</td>\n",
       "      <td>1</td>\n",
       "      <td>Frontend Developer</td>\n",
       "      <td>Nigeria</td>\n",
       "      <td>4</td>\n",
       "      <td>Frontend Developer</td>\n",
       "    </tr>\n",
       "    <tr>\n",
       "      <th>206</th>\n",
       "      <td>N</td>\n",
       "      <td>3</td>\n",
       "      <td>Devops</td>\n",
       "      <td>Nigeria</td>\n",
       "      <td>0</td>\n",
       "      <td>Data Engineer/Devops</td>\n",
       "    </tr>\n",
       "    <tr>\n",
       "      <th>210</th>\n",
       "      <td>N</td>\n",
       "      <td>2</td>\n",
       "      <td>frontend</td>\n",
       "      <td>Nigeria</td>\n",
       "      <td>0</td>\n",
       "      <td>Frontend Developer</td>\n",
       "    </tr>\n",
       "    <tr>\n",
       "      <th>240</th>\n",
       "      <td>N</td>\n",
       "      <td>2</td>\n",
       "      <td>CTO of Get2work.ng</td>\n",
       "      <td>Nigeria</td>\n",
       "      <td>4</td>\n",
       "      <td>Others</td>\n",
       "    </tr>\n",
       "    <tr>\n",
       "      <th>243</th>\n",
       "      <td>N</td>\n",
       "      <td>2</td>\n",
       "      <td>Backend developer</td>\n",
       "      <td>Nigeria</td>\n",
       "      <td>0</td>\n",
       "      <td>Backend Developer</td>\n",
       "    </tr>\n",
       "  </tbody>\n",
       "</table>\n",
       "</div>"
      ],
      "text/plain": [
       "    Degree  Experience                                     Role  \\\n",
       "9        N           2                       Software Engineer    \n",
       "11       N           3                        Backend developer   \n",
       "15       N           3                       Software Engineer    \n",
       "16       N           2                        Android Developer   \n",
       "19       N           2                         Android Engineer   \n",
       "23       N           3                        Software Engineer   \n",
       "27       N           1                         Backend Engineer   \n",
       "36       N           2                  Jnr software developer    \n",
       "39       N           8  Developer Advocate & Software Engineer    \n",
       "41       N           2                                 Designer   \n",
       "46       N           3                     Front end developer    \n",
       "50       N           4       Full stack (heavy on the backend)    \n",
       "53       N           3                        Frontend Engineer   \n",
       "55       N           3                        Software Engineer   \n",
       "59       N           2                       Software Developer   \n",
       "64       N           3                      Fullstack Developer   \n",
       "67       N           3                        Software engineer   \n",
       "68       N           4                       Backend developer    \n",
       "71       N           3                                Fullstack   \n",
       "72       N           5                         Product Designer   \n",
       "74       N           3              Associate Software Engineer   \n",
       "75       N           1                               Full Stack   \n",
       "76       N           4                        Android Developer   \n",
       "77       N           4                                 frontend   \n",
       "80       N           3                        Software Engineer   \n",
       "82       N           6             Freelance software developer   \n",
       "89       N           3                       backend developer    \n",
       "90       N           3                      software developer    \n",
       "92       N           7                  Lead Software Developer   \n",
       "101      N           3                     Frontend Development   \n",
       "102      N           2                      Frontend developers   \n",
       "103      N           3                       Software developer   \n",
       "105      N           5                        Android Developer   \n",
       "112      N           1                       Software engineer    \n",
       "114      N           4                       Software Developer   \n",
       "116      N           1                                Team Lead   \n",
       "124      N           2                          Data Scientist    \n",
       "128      N           4                        Software engineer   \n",
       "145      N           2                        Software Engineer   \n",
       "153      N           5                          Senior Engineer   \n",
       "159      N           3                             Software dev   \n",
       "160      N           2                       Backend Developer    \n",
       "165      N           3                             Fund manager   \n",
       "167      N           3                      Developer Advocate    \n",
       "168      N           4                       frontend developer   \n",
       "189      N           2                        Product Designer    \n",
       "191      N           2                Junior Software Developer   \n",
       "193      N           1                       Frontend Developer   \n",
       "206      N           3                                   Devops   \n",
       "210      N           2                                 frontend   \n",
       "240      N           2                      CTO of Get2work.ng    \n",
       "243      N           2                       Backend developer    \n",
       "\n",
       "    Company location  Monthly Salary                     Title  \n",
       "9            America               6         Software Engineer  \n",
       "11           Nigeria               0         Backend Developer  \n",
       "15           Nigeria               0         Software Engineer  \n",
       "16            Europe               6         Software Engineer  \n",
       "19           Nigeria               1         Software Engineer  \n",
       "23            Europe               6         Software Engineer  \n",
       "27           Nigeria               2         Backend Developer  \n",
       "36           Nigeria               0         Software Engineer  \n",
       "39           America               6         Software Engineer  \n",
       "41           Nigeria               1   UI/UX/Graphics Designer  \n",
       "46            Europe               6        Frontend Developer  \n",
       "50           Nigeria               2      Full Stack Developer  \n",
       "53           America               6        Frontend Developer  \n",
       "55            Europe               1         Software Engineer  \n",
       "59            Europe               6         Software Engineer  \n",
       "64           America               6      Full Stack Developer  \n",
       "67           Nigeria               4         Software Engineer  \n",
       "68           Nigeria               6         Backend Developer  \n",
       "71           America               6      Full Stack Developer  \n",
       "72           Nigeria               1  Product Designer/Manager  \n",
       "74           Nigeria               1         Software Engineer  \n",
       "75           Nigeria               4      Full Stack Developer  \n",
       "76           Nigeria               3         Software Engineer  \n",
       "77           Nigeria               6        Frontend Developer  \n",
       "80           Nigeria               1         Software Engineer  \n",
       "82            Europe               6         Software Engineer  \n",
       "89           Nigeria               6         Backend Developer  \n",
       "90           Nigeria               2         Software Engineer  \n",
       "92           America               6         Software Engineer  \n",
       "101           Europe               6        Frontend Developer  \n",
       "102          America               6        Frontend Developer  \n",
       "103          Nigeria               2         Software Engineer  \n",
       "105          Nigeria               3         Software Engineer  \n",
       "112          Nigeria               4         Software Engineer  \n",
       "114          Nigeria               4         Software Engineer  \n",
       "116          America               6                    Others  \n",
       "124          Nigeria               0    Data Scientist/Analyst  \n",
       "128          Nigeria               1         Software Engineer  \n",
       "145          America               1         Software Engineer  \n",
       "153          Nigeria               6         Software Engineer  \n",
       "159          America               6         Software Engineer  \n",
       "160          America               1         Backend Developer  \n",
       "165          Nigeria               6                    Others  \n",
       "167          America               6         Software Engineer  \n",
       "168          Nigeria               6        Frontend Developer  \n",
       "189          Nigeria               1  Product Designer/Manager  \n",
       "191          Nigeria               0         Software Engineer  \n",
       "193          Nigeria               4        Frontend Developer  \n",
       "206          Nigeria               0      Data Engineer/Devops  \n",
       "210          Nigeria               0        Frontend Developer  \n",
       "240          Nigeria               4                    Others  \n",
       "243          Nigeria               0         Backend Developer  "
      ]
     },
     "execution_count": 23,
     "metadata": {},
     "output_type": "execute_result"
    }
   ],
   "source": [
    "data.loc[data['Degree'] == 'N']"
   ]
  },
  {
   "cell_type": "markdown",
   "metadata": {},
   "source": [
    "The table above shows that there are non degree techies with high paying jobs both in Nigeria and abroad."
   ]
  },
  {
   "cell_type": "code",
   "execution_count": 24,
   "metadata": {},
   "outputs": [
    {
     "data": {
      "text/plain": [
       "33"
      ]
     },
     "execution_count": 24,
     "metadata": {},
     "output_type": "execute_result"
    }
   ],
   "source": [
    "# Let's store all the rows where job title is 'Others' as Non_tech and count them.\n",
    "Non_tech = data[data['Title'] == 'Others']\n",
    "len(Non_tech)"
   ]
  },
  {
   "cell_type": "code",
   "execution_count": 25,
   "metadata": {},
   "outputs": [
    {
     "data": {
      "text/plain": [
       "(204, 6)"
      ]
     },
     "execution_count": 25,
     "metadata": {},
     "output_type": "execute_result"
    }
   ],
   "source": [
    "# Drop the rows using their index.\n",
    "data = data.drop(Non_tech.index, axis=0)\n",
    "data.shape"
   ]
  },
  {
   "cell_type": "code",
   "execution_count": 26,
   "metadata": {},
   "outputs": [
    {
     "data": {
      "text/html": [
       "<div>\n",
       "<style scoped>\n",
       "    .dataframe tbody tr th:only-of-type {\n",
       "        vertical-align: middle;\n",
       "    }\n",
       "\n",
       "    .dataframe tbody tr th {\n",
       "        vertical-align: top;\n",
       "    }\n",
       "\n",
       "    .dataframe thead th {\n",
       "        text-align: right;\n",
       "    }\n",
       "</style>\n",
       "<table border=\"1\" class=\"dataframe\">\n",
       "  <thead>\n",
       "    <tr style=\"text-align: right;\">\n",
       "      <th></th>\n",
       "      <th>Degree</th>\n",
       "      <th>Experience</th>\n",
       "      <th>Company location</th>\n",
       "      <th>Monthly Salary</th>\n",
       "      <th>Title</th>\n",
       "    </tr>\n",
       "  </thead>\n",
       "  <tbody>\n",
       "    <tr>\n",
       "      <th>0</th>\n",
       "      <td>Y</td>\n",
       "      <td>4</td>\n",
       "      <td>Nigeria</td>\n",
       "      <td>3</td>\n",
       "      <td>Backend Developer</td>\n",
       "    </tr>\n",
       "    <tr>\n",
       "      <th>1</th>\n",
       "      <td>Y</td>\n",
       "      <td>2</td>\n",
       "      <td>Nigeria</td>\n",
       "      <td>1</td>\n",
       "      <td>Software Engineer</td>\n",
       "    </tr>\n",
       "    <tr>\n",
       "      <th>2</th>\n",
       "      <td>Y</td>\n",
       "      <td>3</td>\n",
       "      <td>Nigeria</td>\n",
       "      <td>0</td>\n",
       "      <td>Software Engineer</td>\n",
       "    </tr>\n",
       "  </tbody>\n",
       "</table>\n",
       "</div>"
      ],
      "text/plain": [
       "  Degree  Experience Company location  Monthly Salary              Title\n",
       "0      Y           4          Nigeria               3  Backend Developer\n",
       "1      Y           2          Nigeria               1  Software Engineer\n",
       "2      Y           3          Nigeria               0  Software Engineer"
      ]
     },
     "execution_count": 26,
     "metadata": {},
     "output_type": "execute_result"
    }
   ],
   "source": [
    "data = data.drop(['Role'], axis=1)\n",
    "data.head(3)"
   ]
  },
  {
   "cell_type": "code",
   "execution_count": null,
   "metadata": {},
   "outputs": [],
   "source": []
  },
  {
   "cell_type": "code",
   "execution_count": 27,
   "metadata": {},
   "outputs": [],
   "source": [
    "# Label Encoding categorical features.\n",
    "data.loc[:, ['Degree', 'Company location', 'Title']] = \\\n",
    "data.loc[:, ['Degree', 'Company location', 'Title']].apply(le.fit_transform)"
   ]
  },
  {
   "cell_type": "code",
   "execution_count": 28,
   "metadata": {},
   "outputs": [
    {
     "data": {
      "text/html": [
       "<div>\n",
       "<style scoped>\n",
       "    .dataframe tbody tr th:only-of-type {\n",
       "        vertical-align: middle;\n",
       "    }\n",
       "\n",
       "    .dataframe tbody tr th {\n",
       "        vertical-align: top;\n",
       "    }\n",
       "\n",
       "    .dataframe thead th {\n",
       "        text-align: right;\n",
       "    }\n",
       "</style>\n",
       "<table border=\"1\" class=\"dataframe\">\n",
       "  <thead>\n",
       "    <tr style=\"text-align: right;\">\n",
       "      <th></th>\n",
       "      <th>Degree</th>\n",
       "      <th>Experience</th>\n",
       "      <th>Company location</th>\n",
       "      <th>Monthly Salary</th>\n",
       "      <th>Title</th>\n",
       "    </tr>\n",
       "  </thead>\n",
       "  <tbody>\n",
       "    <tr>\n",
       "      <th>0</th>\n",
       "      <td>1</td>\n",
       "      <td>4</td>\n",
       "      <td>2</td>\n",
       "      <td>3</td>\n",
       "      <td>0</td>\n",
       "    </tr>\n",
       "    <tr>\n",
       "      <th>1</th>\n",
       "      <td>1</td>\n",
       "      <td>2</td>\n",
       "      <td>2</td>\n",
       "      <td>1</td>\n",
       "      <td>7</td>\n",
       "    </tr>\n",
       "    <tr>\n",
       "      <th>2</th>\n",
       "      <td>1</td>\n",
       "      <td>3</td>\n",
       "      <td>2</td>\n",
       "      <td>0</td>\n",
       "      <td>7</td>\n",
       "    </tr>\n",
       "  </tbody>\n",
       "</table>\n",
       "</div>"
      ],
      "text/plain": [
       "   Degree  Experience  Company location  Monthly Salary  Title\n",
       "0       1           4                 2               3      0\n",
       "1       1           2                 2               1      7\n",
       "2       1           3                 2               0      7"
      ]
     },
     "execution_count": 28,
     "metadata": {},
     "output_type": "execute_result"
    }
   ],
   "source": [
    "data.head(3)"
   ]
  },
  {
   "cell_type": "code",
   "execution_count": 29,
   "metadata": {},
   "outputs": [
    {
     "data": {
      "text/plain": [
       "1    155\n",
       "0     49\n",
       "Name: Degree, dtype: int64"
      ]
     },
     "execution_count": 29,
     "metadata": {},
     "output_type": "execute_result"
    }
   ],
   "source": [
    "# 1 = Y, 0 = N.\n",
    "\n",
    "data['Degree'].value_counts()"
   ]
  },
  {
   "cell_type": "code",
   "execution_count": 30,
   "metadata": {},
   "outputs": [
    {
     "data": {
      "text/plain": [
       "2    156\n",
       "0     30\n",
       "1     12\n",
       "3      6\n",
       "Name: Company location, dtype: int64"
      ]
     },
     "execution_count": 30,
     "metadata": {},
     "output_type": "execute_result"
    }
   ],
   "source": [
    "# 0 = America, 1 = Europe, 2 = Nigeria, 3 = Rest of africa.\n",
    "\n",
    "data['Company location'].value_counts()"
   ]
  },
  {
   "cell_type": "code",
   "execution_count": 31,
   "metadata": {},
   "outputs": [
    {
     "data": {
      "text/plain": [
       "7    101\n",
       "3     22\n",
       "2     20\n",
       "0     16\n",
       "6     12\n",
       "5     11\n",
       "4     10\n",
       "8      9\n",
       "1      3\n",
       "Name: Title, dtype: int64"
      ]
     },
     "execution_count": 31,
     "metadata": {},
     "output_type": "execute_result"
    }
   ],
   "source": [
    "# 0=Backend, 1=Data Engineer/Devops, 2=Data Scientist/Analyst, 3=Frontend, \n",
    "# 4=Fullstack, 5=IT/Operations, 6=Products, 7=Software Engineer.\n",
    "\n",
    "data['Title'].value_counts()"
   ]
  },
  {
   "cell_type": "code",
   "execution_count": null,
   "metadata": {},
   "outputs": [],
   "source": []
  },
  {
   "cell_type": "code",
   "execution_count": 32,
   "metadata": {},
   "outputs": [],
   "source": [
    "# Correlation matrix\n",
    "\n",
    "corr_matrix = data.corr()"
   ]
  },
  {
   "cell_type": "code",
   "execution_count": 33,
   "metadata": {},
   "outputs": [
    {
     "data": {
      "text/plain": [
       "Monthly Salary      1.000000\n",
       "Experience          0.343183\n",
       "Title               0.179700\n",
       "Degree             -0.073841\n",
       "Company location   -0.475380\n",
       "Name: Monthly Salary, dtype: float64"
      ]
     },
     "execution_count": 33,
     "metadata": {},
     "output_type": "execute_result"
    }
   ],
   "source": [
    "# Let's see how the features correlate with the target.\n",
    "corr_matrix['Monthly Salary'].sort_values(ascending=False)"
   ]
  },
  {
   "cell_type": "code",
   "execution_count": 34,
   "metadata": {},
   "outputs": [
    {
     "data": {
      "text/html": [
       "<div>\n",
       "<style scoped>\n",
       "    .dataframe tbody tr th:only-of-type {\n",
       "        vertical-align: middle;\n",
       "    }\n",
       "\n",
       "    .dataframe tbody tr th {\n",
       "        vertical-align: top;\n",
       "    }\n",
       "\n",
       "    .dataframe thead th {\n",
       "        text-align: right;\n",
       "    }\n",
       "</style>\n",
       "<table border=\"1\" class=\"dataframe\">\n",
       "  <thead>\n",
       "    <tr style=\"text-align: right;\">\n",
       "      <th></th>\n",
       "      <th>Degree</th>\n",
       "      <th>Experience</th>\n",
       "      <th>Company location</th>\n",
       "      <th>Monthly Salary</th>\n",
       "      <th>Title</th>\n",
       "    </tr>\n",
       "  </thead>\n",
       "  <tbody>\n",
       "    <tr>\n",
       "      <th>Degree</th>\n",
       "      <td>1.000000</td>\n",
       "      <td>0.102777</td>\n",
       "      <td>0.199500</td>\n",
       "      <td>-0.073841</td>\n",
       "      <td>0.039495</td>\n",
       "    </tr>\n",
       "    <tr>\n",
       "      <th>Experience</th>\n",
       "      <td>0.102777</td>\n",
       "      <td>1.000000</td>\n",
       "      <td>-0.158928</td>\n",
       "      <td>0.343183</td>\n",
       "      <td>0.190862</td>\n",
       "    </tr>\n",
       "    <tr>\n",
       "      <th>Company location</th>\n",
       "      <td>0.199500</td>\n",
       "      <td>-0.158928</td>\n",
       "      <td>1.000000</td>\n",
       "      <td>-0.475380</td>\n",
       "      <td>-0.123884</td>\n",
       "    </tr>\n",
       "    <tr>\n",
       "      <th>Monthly Salary</th>\n",
       "      <td>-0.073841</td>\n",
       "      <td>0.343183</td>\n",
       "      <td>-0.475380</td>\n",
       "      <td>1.000000</td>\n",
       "      <td>0.179700</td>\n",
       "    </tr>\n",
       "    <tr>\n",
       "      <th>Title</th>\n",
       "      <td>0.039495</td>\n",
       "      <td>0.190862</td>\n",
       "      <td>-0.123884</td>\n",
       "      <td>0.179700</td>\n",
       "      <td>1.000000</td>\n",
       "    </tr>\n",
       "  </tbody>\n",
       "</table>\n",
       "</div>"
      ],
      "text/plain": [
       "                    Degree  Experience  Company location  Monthly Salary  \\\n",
       "Degree            1.000000    0.102777          0.199500       -0.073841   \n",
       "Experience        0.102777    1.000000         -0.158928        0.343183   \n",
       "Company location  0.199500   -0.158928          1.000000       -0.475380   \n",
       "Monthly Salary   -0.073841    0.343183         -0.475380        1.000000   \n",
       "Title             0.039495    0.190862         -0.123884        0.179700   \n",
       "\n",
       "                     Title  \n",
       "Degree            0.039495  \n",
       "Experience        0.190862  \n",
       "Company location -0.123884  \n",
       "Monthly Salary    0.179700  \n",
       "Title             1.000000  "
      ]
     },
     "execution_count": 34,
     "metadata": {},
     "output_type": "execute_result"
    }
   ],
   "source": [
    "corr_matrix"
   ]
  },
  {
   "cell_type": "code",
   "execution_count": null,
   "metadata": {},
   "outputs": [],
   "source": []
  },
  {
   "cell_type": "code",
   "execution_count": 35,
   "metadata": {},
   "outputs": [
    {
     "name": "stdout",
     "output_type": "stream",
     "text": [
      "Shape of Features:  (204, 4)\n",
      "\n",
      "Shape of Target:  (204,)\n"
     ]
    }
   ],
   "source": [
    "# Splitting into X and Y axes.\n",
    "\n",
    "X = data.drop(['Monthly Salary'], axis=1)\n",
    "Y = data['Monthly Salary']\n",
    "\n",
    "print('Shape of Features: ',X.shape)\n",
    "print('')\n",
    "print('Shape of Target: ',Y.shape)"
   ]
  },
  {
   "cell_type": "code",
   "execution_count": 36,
   "metadata": {},
   "outputs": [],
   "source": [
    "# Time To Model!\n",
    "\n",
    "from sklearn.linear_model import LogisticRegression\n",
    "from sklearn.ensemble import RandomForestClassifier\n",
    "from sklearn.model_selection import KFold, cross_val_score\n",
    "from sklearn.metrics import log_loss, f1_score"
   ]
  },
  {
   "cell_type": "code",
   "execution_count": 37,
   "metadata": {},
   "outputs": [],
   "source": [
    "fold = KFold(n_splits=5, shuffle=True, random_state=12)"
   ]
  },
  {
   "cell_type": "code",
   "execution_count": 38,
   "metadata": {},
   "outputs": [
    {
     "name": "stdout",
     "output_type": "stream",
     "text": [
      "F1:  0.31980255516840883\n",
      "F1:  0.3862101313320826\n",
      "F1:  0.37592915214866435\n",
      "F1:  0.3544715447154472\n",
      "F1:  0.2675844988344988\n"
     ]
    }
   ],
   "source": [
    "# Logistic Regression.\n",
    "\n",
    "for train_index, test_index in fold.split(X, Y):\n",
    "    # split into train and test.\n",
    "    x_train, x_test = X.iloc[train_index], X.iloc[test_index]\n",
    "    y_train, y_test = Y.iloc[train_index], Y.iloc[test_index]\n",
    "    \n",
    "    # train the model.\n",
    "    reg = LogisticRegression(max_iter=1000, multi_class='multinomial', C=0.5)\n",
    "    reg.fit(x_train, y_train)\n",
    "    \n",
    "    # making prediction.\n",
    "    y_pred1 = reg.predict(x_test)\n",
    "    \n",
    "    # evaluate the model.\n",
    "    f1 = f1_score(y_test, y_pred1, average='weighted')\n",
    "    \n",
    "    print('F1: ',f1)"
   ]
  },
  {
   "cell_type": "code",
   "execution_count": 39,
   "metadata": {},
   "outputs": [
    {
     "name": "stdout",
     "output_type": "stream",
     "text": [
      "Mean Score:  0.36320074241928707\n"
     ]
    }
   ],
   "source": [
    "score = cross_val_score(reg, x_train, y_train, scoring='f1_weighted', cv=5)\n",
    "avg_score = score.mean()\n",
    "print('Mean Score: ',avg_score)"
   ]
  },
  {
   "cell_type": "code",
   "execution_count": 40,
   "metadata": {},
   "outputs": [
    {
     "data": {
      "text/html": [
       "<div>\n",
       "<style scoped>\n",
       "    .dataframe tbody tr th:only-of-type {\n",
       "        vertical-align: middle;\n",
       "    }\n",
       "\n",
       "    .dataframe tbody tr th {\n",
       "        vertical-align: top;\n",
       "    }\n",
       "\n",
       "    .dataframe thead th {\n",
       "        text-align: right;\n",
       "    }\n",
       "</style>\n",
       "<table border=\"1\" class=\"dataframe\">\n",
       "  <thead>\n",
       "    <tr style=\"text-align: right;\">\n",
       "      <th></th>\n",
       "      <th>Monthly Salary</th>\n",
       "      <th>Predicted</th>\n",
       "    </tr>\n",
       "  </thead>\n",
       "  <tbody>\n",
       "    <tr>\n",
       "      <th>3</th>\n",
       "      <td>6</td>\n",
       "      <td>6</td>\n",
       "    </tr>\n",
       "    <tr>\n",
       "      <th>14</th>\n",
       "      <td>1</td>\n",
       "      <td>6</td>\n",
       "    </tr>\n",
       "    <tr>\n",
       "      <th>27</th>\n",
       "      <td>2</td>\n",
       "      <td>0</td>\n",
       "    </tr>\n",
       "    <tr>\n",
       "      <th>30</th>\n",
       "      <td>6</td>\n",
       "      <td>6</td>\n",
       "    </tr>\n",
       "    <tr>\n",
       "      <th>32</th>\n",
       "      <td>6</td>\n",
       "      <td>6</td>\n",
       "    </tr>\n",
       "    <tr>\n",
       "      <th>40</th>\n",
       "      <td>6</td>\n",
       "      <td>6</td>\n",
       "    </tr>\n",
       "    <tr>\n",
       "      <th>54</th>\n",
       "      <td>4</td>\n",
       "      <td>0</td>\n",
       "    </tr>\n",
       "    <tr>\n",
       "      <th>80</th>\n",
       "      <td>1</td>\n",
       "      <td>1</td>\n",
       "    </tr>\n",
       "    <tr>\n",
       "      <th>82</th>\n",
       "      <td>6</td>\n",
       "      <td>6</td>\n",
       "    </tr>\n",
       "    <tr>\n",
       "      <th>83</th>\n",
       "      <td>1</td>\n",
       "      <td>6</td>\n",
       "    </tr>\n",
       "  </tbody>\n",
       "</table>\n",
       "</div>"
      ],
      "text/plain": [
       "    Monthly Salary  Predicted\n",
       "3                6          6\n",
       "14               1          6\n",
       "27               2          0\n",
       "30               6          6\n",
       "32               6          6\n",
       "40               6          6\n",
       "54               4          0\n",
       "80               1          1\n",
       "82               6          6\n",
       "83               1          6"
      ]
     },
     "execution_count": 40,
     "metadata": {},
     "output_type": "execute_result"
    }
   ],
   "source": [
    "# Comparing Actual and Predicted outputs of Y(Monthly Salary)\n",
    "\n",
    "table = pd.DataFrame(y_test)\n",
    "table['Predicted'] = y_pred1\n",
    "table.head(10)"
   ]
  },
  {
   "cell_type": "code",
   "execution_count": null,
   "metadata": {},
   "outputs": [],
   "source": []
  },
  {
   "cell_type": "code",
   "execution_count": 41,
   "metadata": {},
   "outputs": [
    {
     "name": "stdout",
     "output_type": "stream",
     "text": [
      "F1:  0.3476771196283392\n",
      "F1:  0.36503009185936014\n",
      "F1:  0.4374372638361161\n",
      "F1:  0.5109995217599235\n",
      "F1:  0.2883070175438596\n"
     ]
    }
   ],
   "source": [
    "# Random Forest.\n",
    "\n",
    "for train_index, test_index in fold.split(X, Y):\n",
    "    # split into train and test.\n",
    "    x_train, x_test = X.iloc[train_index], X.iloc[test_index]\n",
    "    y_train, y_test = Y.iloc[train_index], Y.iloc[test_index]\n",
    "    \n",
    "    # train the model.\n",
    "    model = RandomForestClassifier(n_estimators=2000, max_depth=10, max_samples=20, random_state=12, max_features=4)\n",
    "    model.fit(x_train, y_train)\n",
    "    \n",
    "    # making prediction.\n",
    "    y_pred2 = model.predict(x_test)\n",
    "    \n",
    "    # evaluate the model.\n",
    "    f1 = f1_score(y_test, y_pred2, average='weighted')\n",
    "    \n",
    "    print('F1: ',f1)"
   ]
  },
  {
   "cell_type": "code",
   "execution_count": 42,
   "metadata": {},
   "outputs": [
    {
     "name": "stdout",
     "output_type": "stream",
     "text": [
      "Mean Score:  0.3916930104889664\n"
     ]
    }
   ],
   "source": [
    "score = cross_val_score(model, x_train, y_train, scoring='f1_weighted', cv=5)\n",
    "avg_score = score.mean()\n",
    "print('Mean Score: ',avg_score)"
   ]
  },
  {
   "cell_type": "code",
   "execution_count": null,
   "metadata": {},
   "outputs": [],
   "source": []
  },
  {
   "cell_type": "code",
   "execution_count": 43,
   "metadata": {},
   "outputs": [
    {
     "name": "stdout",
     "output_type": "stream",
     "text": [
      "F1:  0.37993612078977923\n",
      "F1:  0.3824554211928674\n",
      "F1:  0.46441525953721075\n",
      "F1:  0.3906718014548567\n",
      "F1:  0.2500724637681159\n"
     ]
    }
   ],
   "source": [
    "# Gradient Boost.\n",
    "\n",
    "from sklearn.ensemble import GradientBoostingClassifier\n",
    "\n",
    "for train_index, test_index in fold.split(X, Y):\n",
    "    # split into train and test.\n",
    "    x_train, x_test = X.iloc[train_index], X.iloc[test_index]\n",
    "    y_train, y_test = Y.iloc[train_index], Y.iloc[test_index]\n",
    "    \n",
    "    # train the model.\n",
    "    boost = GradientBoostingClassifier(n_estimators=1000, learning_rate=0.01, max_depth=2)\n",
    "    boost.fit(x_train, y_train)\n",
    "    \n",
    "    # making prediction.\n",
    "    y_pred3 = boost.predict(x_test)\n",
    "    \n",
    "    # evaluate the model.\n",
    "    f1 = f1_score(y_test, y_pred3, average='weighted')\n",
    "    \n",
    "    print('F1: ',f1)"
   ]
  },
  {
   "cell_type": "code",
   "execution_count": 44,
   "metadata": {},
   "outputs": [
    {
     "name": "stdout",
     "output_type": "stream",
     "text": [
      "Mean Score:  0.3622481930910203\n"
     ]
    }
   ],
   "source": [
    "score = cross_val_score(boost, x_train, y_train, scoring='f1_weighted', cv=5)\n",
    "avg_score = score.mean()\n",
    "print('Mean Score: ',avg_score)"
   ]
  },
  {
   "cell_type": "code",
   "execution_count": null,
   "metadata": {},
   "outputs": [],
   "source": []
  },
  {
   "cell_type": "code",
   "execution_count": 45,
   "metadata": {},
   "outputs": [],
   "source": [
    "# Serializing the Random Forest model.\n",
    "\n",
    "import pickle"
   ]
  },
  {
   "cell_type": "code",
   "execution_count": 46,
   "metadata": {},
   "outputs": [
    {
     "name": "stdout",
     "output_type": "stream",
     "text": [
      "All kwaret Sir!\n"
     ]
    }
   ],
   "source": [
    "# Saving the model.\n",
    "pickle.dump(model, open('Pace_Model.pkl', 'wb'))\n",
    "print('All kwaret Sir!')"
   ]
  },
  {
   "cell_type": "code",
   "execution_count": 49,
   "metadata": {},
   "outputs": [
    {
     "data": {
      "text/plain": [
       "Index(['Degree', 'Experience', 'Company location', 'Monthly Salary', 'Title'], dtype='object')"
      ]
     },
     "execution_count": 49,
     "metadata": {},
     "output_type": "execute_result"
    }
   ],
   "source": [
    "data.columns"
   ]
  },
  {
   "cell_type": "code",
   "execution_count": 50,
   "metadata": {},
   "outputs": [
    {
     "data": {
      "text/plain": [
       "Index(['Degree', 'Experience', 'Company location', 'Title'], dtype='object')"
      ]
     },
     "execution_count": 50,
     "metadata": {},
     "output_type": "execute_result"
    }
   ],
   "source": [
    "# Columns(Features) that were used to train the model.\n",
    "x_train.columns"
   ]
  },
  {
   "cell_type": "code",
   "execution_count": 53,
   "metadata": {},
   "outputs": [],
   "source": [
    "# Saving the columns\n",
    "pickle.dump(data.columns, open('Pace_Model_Columns.pkl', 'wb'))"
   ]
  },
  {
   "cell_type": "code",
   "execution_count": 54,
   "metadata": {},
   "outputs": [],
   "source": [
    "# Saving the data used.\n",
    "pickle.dump(x_train.columns, open('Pace_Training_Features.pkl', 'wb'))"
   ]
  },
  {
   "cell_type": "code",
   "execution_count": null,
   "metadata": {},
   "outputs": [],
   "source": []
  }
 ],
 "metadata": {
  "kernelspec": {
   "display_name": "Python 3",
   "language": "python",
   "name": "python3"
  },
  "language_info": {
   "codemirror_mode": {
    "name": "ipython",
    "version": 3
   },
   "file_extension": ".py",
   "mimetype": "text/x-python",
   "name": "python",
   "nbconvert_exporter": "python",
   "pygments_lexer": "ipython3",
   "version": "3.8.8"
  }
 },
 "nbformat": 4,
 "nbformat_minor": 2
}
