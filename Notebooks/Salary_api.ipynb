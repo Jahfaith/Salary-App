{
 "cells": [
  {
   "cell_type": "code",
   "execution_count": 1,
   "metadata": {},
   "outputs": [],
   "source": [
    "from fastapi import FastAPI\n",
    "import uvicorn\n",
    "from pydantic import BaseModel\n",
    "\n",
    "import pickle"
   ]
  },
  {
   "cell_type": "code",
   "execution_count": 2,
   "metadata": {},
   "outputs": [],
   "source": [
    "app = FastAPI(title= 'PACE SALARY PREDICTOR')"
   ]
  },
  {
   "cell_type": "code",
   "execution_count": 3,
   "metadata": {},
   "outputs": [],
   "source": [
    "@app.get('/')\n",
    "async def index():\n",
    "    return {'text': 'Welcome TO PACE SALARY APP'}"
   ]
  },
  {
   "cell_type": "code",
   "execution_count": 4,
   "metadata": {},
   "outputs": [],
   "source": [
    "@app.post('/predict')\n",
    "def get_prediction(Degree: bool, Experience: int, Company_location: str, Title: str):\n",
    "    \n",
    "    model = pickle.load(open('Pace_Model.pkl', 'rb'))\n",
    "    \n",
    "    if Company_location == 'America':\n",
    "        Company_location = 0\n",
    "    elif Company_location == 'Europe':\n",
    "        Company_location = 1\n",
    "    elif Company_location == 'Nigeria':\n",
    "        Company_location = 2\n",
    "    elif Company_location == 'Africa':\n",
    "        Company_location = 3\n",
    "        \n",
    "    if Title == 'Backend':\n",
    "        Title = 0\n",
    "    elif Title == 'Data Engineer':\n",
    "        Title = 1\n",
    "    elif Title == 'Devops':\n",
    "        Title = 1\n",
    "    elif Title == 'Data Scientist':\n",
    "        Title = 2\n",
    "    elif Title == 'Data Analyst':\n",
    "        Title = 2\n",
    "    elif Title == 'Frontend':\n",
    "        Title = 3\n",
    "    elif Title == 'Full stack':\n",
    "        Title = 4\n",
    "    elif Title == 'IT':\n",
    "        Title = 5\n",
    "    elif Title == 'Products':\n",
    "        Title = 6\n",
    "    elif Title == 'Software Engineer':\n",
    "        Title = 7\n",
    "    elif Title == 'Software Developer':\n",
    "        Title = 7\n",
    "    \n",
    "    data = [[Degree, Experience, Company_location, Title]]\n",
    "    prediction = model.predict(data)\n",
    "    sal = prediction\n",
    "    \n",
    "    if sal==0:\n",
    "        prediction='101k-200k'\n",
    "    elif sal==1:\n",
    "        prediction='201k-300k'\n",
    "    elif sal==2:\n",
    "        prediction='301k-400k'\n",
    "    elif sal==3:\n",
    "        prediction='401k-500k'\n",
    "    elif sal==4:\n",
    "        prediction='50k-100k'\n",
    "    elif sal==5:\n",
    "        prediction='<50k'\n",
    "    elif sal==6:\n",
    "        prediction='>500k'\n",
    "    return {'Salary Range': prediction}"
   ]
  },
  {
   "cell_type": "code",
   "execution_count": null,
   "metadata": {},
   "outputs": [
    {
     "name": "stderr",
     "output_type": "stream",
     "text": [
      "INFO:     Started server process [2640]\n",
      "INFO:     Waiting for application startup.\n",
      "INFO:     Application startup complete.\n",
      "INFO:     Uvicorn running on http://127.0.0.1:8000 (Press CTRL+C to quit)\n"
     ]
    },
    {
     "name": "stdout",
     "output_type": "stream",
     "text": [
      "INFO:     127.0.0.1:60231 - \"GET / HTTP/1.1\" 200 OK\n",
      "INFO:     127.0.0.1:60232 - \"GET /docs HTTP/1.1\" 200 OK\n",
      "INFO:     127.0.0.1:60239 - \"GET /openapi.json HTTP/1.1\" 200 OK\n",
      "INFO:     127.0.0.1:60256 - \"POST /predict?Degree=true&Experience=4&Company_location=Nigeria&Title=Frontend HTTP/1.1\" 200 OK\n"
     ]
    }
   ],
   "source": [
    "if __name__ == '__main__':\n",
    "    uvicorn.run(app, host=\"127.0.0.1\", port=8000)"
   ]
  },
  {
   "cell_type": "code",
   "execution_count": null,
   "metadata": {},
   "outputs": [],
   "source": []
  },
  {
   "cell_type": "code",
   "execution_count": null,
   "metadata": {},
   "outputs": [],
   "source": []
  },
  {
   "cell_type": "code",
   "execution_count": null,
   "metadata": {},
   "outputs": [],
   "source": []
  },
  {
   "cell_type": "code",
   "execution_count": null,
   "metadata": {},
   "outputs": [],
   "source": []
  },
  {
   "cell_type": "code",
   "execution_count": null,
   "metadata": {},
   "outputs": [],
   "source": [
    "# WORKING, BUT WITHOUT LABEL ENCODING -uses bool and int as inputs.\n",
    "\n",
    "@app.post('/api', tags=['Prediction'])\n",
    "def get_prediction(data: dataset):\n",
    "    \n",
    "    Degree = data['Degree']\n",
    "    Experience = data['Experience']\n",
    "    Company_location = data['Company_location']\n",
    "    Title = data['Title']\n",
    "    model = pickle.load(open('Pace_Model.pkl', 'rb'))\n",
    "\n",
    "    prediction = model.predict([[Degree, Experience, Company_location, Title]])\n",
    "    prediction = prediction[0]\n",
    "    sal = prediction\n",
    "    if sal==0:\n",
    "        prediction='101k-200k'\n",
    "    elif sal==1:\n",
    "        prediction='201k-300k'\n",
    "    elif sal==2:\n",
    "        prediction='301k-400k'\n",
    "    elif sal==3:\n",
    "        prediction='401k-500k'\n",
    "    elif sal==4:\n",
    "        prediction='50k-100k'\n",
    "    elif sal==5:\n",
    "        prediction='<50k'\n",
    "    elif sal==6:\n",
    "        prediction='>500k'\n",
    "    return {'Salary Range': prediction}"
   ]
  },
  {
   "cell_type": "code",
   "execution_count": null,
   "metadata": {},
   "outputs": [],
   "source": []
  },
  {
   "cell_type": "code",
   "execution_count": null,
   "metadata": {},
   "outputs": [],
   "source": [
    "# Testing the API directly.\n",
    "get_prediction({'Degree': True, 'Experience': 2, 'Company_location': 1, 'Title':4})"
   ]
  },
  {
   "cell_type": "code",
   "execution_count": null,
   "metadata": {},
   "outputs": [],
   "source": [
    "if __name__ == '__main__':\n",
    "    uvicorn.run(app, host=\"127.0.0.1\", port=8000)"
   ]
  },
  {
   "cell_type": "code",
   "execution_count": null,
   "metadata": {},
   "outputs": [],
   "source": []
  }
 ],
 "metadata": {
  "kernelspec": {
   "display_name": "Python 3",
   "language": "python",
   "name": "python3"
  },
  "language_info": {
   "codemirror_mode": {
    "name": "ipython",
    "version": 3
   },
   "file_extension": ".py",
   "mimetype": "text/x-python",
   "name": "python",
   "nbconvert_exporter": "python",
   "pygments_lexer": "ipython3",
   "version": "3.8.8"
  }
 },
 "nbformat": 4,
 "nbformat_minor": 2
}
